{
 "cells": [
  {
   "cell_type": "markdown",
   "id": "655d6097-8c56-4847-9074-10093261a4e5",
   "metadata": {},
   "source": [
    "# 例で使うサンプルデータを作成する"
   ]
  },
  {
   "cell_type": "code",
   "execution_count": 1,
   "id": "f6dcf1a3-e05a-4e01-8d49-027a1cf62875",
   "metadata": {},
   "outputs": [],
   "source": [
    "import os\n",
    "import boto3\n",
    "from boto3.session import Session"
   ]
  },
  {
   "cell_type": "markdown",
   "id": "0e30575f-5152-44bb-99dc-952711db135c",
   "metadata": {},
   "source": [
    "起動時に設定しておいた環境変数`S3_TEST_URL`からベースとなるURLを取得する。\n",
    "この例ではMinioを利用しており、あらかじめテスト用バケット`test`を作成しておいた。\n",
    "Minio準備については、 https://dobachi.github.io/memo-blog/2021/06/13/Minio-getting-started/ を参照。"
   ]
  },
  {
   "cell_type": "code",
   "execution_count": 2,
   "id": "89e6032d-becd-4b4a-b1bc-90f71603ea7e",
   "metadata": {},
   "outputs": [],
   "source": [
    "s3_base = os.environ['S3_TEST_URL']"
   ]
  },
  {
   "cell_type": "code",
   "execution_count": 3,
   "id": "e55f5a9b-fe92-4188-b80e-76546f93eb45",
   "metadata": {},
   "outputs": [
    {
     "data": {
      "text/plain": [
       "'s3a://test'"
      ]
     },
     "execution_count": 3,
     "metadata": {},
     "output_type": "execute_result"
    }
   ],
   "source": [
    "s3_base"
   ]
  },
  {
   "cell_type": "markdown",
   "id": "3115babc-ba44-4c41-acba-b1f8f7c75914",
   "metadata": {},
   "source": [
    "念のため、SparkSessionを確かめる。"
   ]
  },
  {
   "cell_type": "code",
   "execution_count": 4,
   "id": "8f1dff4d-f075-48f1-a8a5-bef9ffdd4314",
   "metadata": {},
   "outputs": [
    {
     "data": {
      "text/html": [
       "\n",
       "            <div>\n",
       "                <p><b>SparkSession - hive</b></p>\n",
       "                \n",
       "        <div>\n",
       "            <p><b>SparkContext</b></p>\n",
       "\n",
       "            <p><a href=\"http://localhost:4040\">Spark UI</a></p>\n",
       "\n",
       "            <dl>\n",
       "              <dt>Version</dt>\n",
       "                <dd><code>v3.1.2</code></dd>\n",
       "              <dt>Master</dt>\n",
       "                <dd><code>local[*]</code></dd>\n",
       "              <dt>AppName</dt>\n",
       "                <dd><code>PySparkShell</code></dd>\n",
       "            </dl>\n",
       "        </div>\n",
       "        \n",
       "            </div>\n",
       "        "
      ],
      "text/plain": [
       "<pyspark.sql.session.SparkSession at 0x7f7b033a9490>"
      ]
     },
     "execution_count": 4,
     "metadata": {},
     "output_type": "execute_result"
    }
   ],
   "source": [
    "spark"
   ]
  },
  {
   "cell_type": "markdown",
   "id": "47497c98-8f15-4684-bf72-3d0daf929b1d",
   "metadata": {},
   "source": [
    "サンプルデータを作成し、s3に書き込む。\n",
    "ここでは、`s3://test/delta_table_01`と`s3://test/delta_table_02`を作成する。"
   ]
  },
  {
   "cell_type": "markdown",
   "id": "5d8e4daa-8209-46ff-a9f1-f445c67db02d",
   "metadata": {},
   "source": [
    "予め設定しておいたAWSプロフィールを指す名を読み込む。"
   ]
  },
  {
   "cell_type": "code",
   "execution_count": 6,
   "id": "fc1d6a11-5213-48aa-9581-9b5798a12296",
   "metadata": {},
   "outputs": [
    {
     "data": {
      "text/plain": [
       "'delta_sharing'"
      ]
     },
     "execution_count": 6,
     "metadata": {},
     "output_type": "execute_result"
    }
   ],
   "source": [
    "AWS_PROFILE = os.environ['AWS_PROFILE']\n",
    "AWS_PROFILE"
   ]
  },
  {
   "cell_type": "markdown",
   "id": "3c970177-000c-4f3e-b991-e208e9971e9d",
   "metadata": {},
   "source": [
    "上記の通り、`delta_sharing`という名称で、AWSプロフィールを作成してあることが前提である。\n",
    "\n",
    "~/.aws/credentialsの例：\n",
    "\n",
    "```\n",
    "[delta_sharing]\n",
    "aws_access_key_id = hoge\n",
    "aws_secret_access_key = fuga\n",
    "```"
   ]
  },
  {
   "cell_type": "markdown",
   "id": "530d8c78-ede2-47fd-acb9-350e454ff2a2",
   "metadata": {},
   "source": [
    "セッション生成"
   ]
  },
  {
   "cell_type": "code",
   "execution_count": 7,
   "id": "31ff649f-1f55-4dca-97b5-a2ec0fb42ee6",
   "metadata": {},
   "outputs": [],
   "source": [
    "session = Session(profile_name=AWS_PROFILE)"
   ]
  },
  {
   "cell_type": "markdown",
   "id": "8eb0159c-e0bb-42ed-a160-9a7547a9a6c6",
   "metadata": {},
   "source": [
    "ここではMinioを利用しているため、エンドポイントを指定する。"
   ]
  },
  {
   "cell_type": "code",
   "execution_count": 8,
   "id": "0b20d173-77df-42d0-a64f-f83fd9493929",
   "metadata": {},
   "outputs": [
    {
     "data": {
      "text/plain": [
       "'http://127.0.0.1:9000'"
      ]
     },
     "execution_count": 8,
     "metadata": {},
     "output_type": "execute_result"
    }
   ],
   "source": [
    "endpoint_url = os.environ.get('S3_ENDPOINT', None)\n",
    "endpoint_url"
   ]
  },
  {
   "cell_type": "markdown",
   "id": "eb209cfe-fd70-48b2-8c89-a7266d575ad0",
   "metadata": {},
   "source": [
    "取得したエンドポイントを指定して、セッションを生成"
   ]
  },
  {
   "cell_type": "code",
   "execution_count": 10,
   "id": "428cde3d-be2e-4bf8-b5ae-707cd8bf3880",
   "metadata": {},
   "outputs": [],
   "source": [
    "s3 = session.resource('s3', endpoint_url=endpoint_url)"
   ]
  },
  {
   "cell_type": "code",
   "execution_count": 11,
   "id": "d657fd4c-5b4f-44d4-a900-7a5190028625",
   "metadata": {},
   "outputs": [],
   "source": [
    "bucket = s3.Bucket('test')"
   ]
  },
  {
   "cell_type": "markdown",
   "id": "18448dac-b0a3-452c-bdef-f463d035d85a",
   "metadata": {},
   "source": [
    "ここから、対象データがあるかどうかを確認しながら、Minio上にS3プロトコルでDeltaテーブルのサンプルデータを作成する。"
   ]
  },
  {
   "cell_type": "markdown",
   "id": "605499fb-0af3-4977-8b77-14e20097afd4",
   "metadata": {},
   "source": [
    "まず1個目。"
   ]
  },
  {
   "cell_type": "code",
   "execution_count": 12,
   "id": "089c8f2f-3ea0-47b3-b50f-89059b92c651",
   "metadata": {},
   "outputs": [
    {
     "name": "stdout",
     "output_type": "stream",
     "text": [
      "/delta_table_01\n"
     ]
    }
   ],
   "source": [
    "key = '/delta_table_01'\n",
    "print(key)\n",
    "objects = bucket.objects.filter(Prefix=key)"
   ]
  },
  {
   "cell_type": "code",
   "execution_count": 13,
   "id": "b0274608-1c43-48c3-9843-b0e294394474",
   "metadata": {},
   "outputs": [
    {
     "name": "stdout",
     "output_type": "stream",
     "text": [
      "delta_table_01 exists\n"
     ]
    }
   ],
   "source": [
    "if not any(True for _ in objects):\n",
    "    spark.range(0, 10).write.format(\"delta\").save(s3_base + '/delta_table_01')\n",
    "else:\n",
    "    print('delta_table_01 exists')"
   ]
  },
  {
   "cell_type": "markdown",
   "id": "439e495c-e92a-4a83-9d24-25643672c84c",
   "metadata": {},
   "source": [
    "もしテーブルが存在しなければSparkを使ってデータが書き込まれる。\n",
    "もし存在すればその旨メッセージを出力する。"
   ]
  },
  {
   "cell_type": "markdown",
   "id": "fe27963e-f4ca-434b-959f-fac5f946c3d3",
   "metadata": {},
   "source": [
    "2個目。"
   ]
  },
  {
   "cell_type": "code",
   "execution_count": 96,
   "id": "9523e308-d8d9-40ae-b60d-ec0b03c6eab6",
   "metadata": {},
   "outputs": [
    {
     "name": "stdout",
     "output_type": "stream",
     "text": [
      "/delta_table_02\n"
     ]
    }
   ],
   "source": [
    "key = '/delta_table_02'\n",
    "print(key)\n",
    "objects = bucket.objects.filter(Prefix=key)"
   ]
  },
  {
   "cell_type": "code",
   "execution_count": 99,
   "id": "a28e2e9d-87da-4f9d-a0f9-bb43bb5bebb4",
   "metadata": {},
   "outputs": [
    {
     "name": "stdout",
     "output_type": "stream",
     "text": [
      "delta_table_02 exists\n"
     ]
    }
   ],
   "source": [
    "if not any(True for _ in objects):\n",
    "    spark.range(0, 10).write.format(\"delta\").save(s3_base + '/delta_table_02')\n",
    "else:\n",
    "    print('delta_table_02 exists')"
   ]
  },
  {
   "cell_type": "code",
   "execution_count": null,
   "id": "e3f8c327-a090-4ffa-ba76-3d867e3cb5e3",
   "metadata": {},
   "outputs": [],
   "source": []
  }
 ],
 "metadata": {
  "kernelspec": {
   "display_name": "Python 3",
   "language": "python",
   "name": "python3"
  },
  "language_info": {
   "codemirror_mode": {
    "name": "ipython",
    "version": 3
   },
   "file_extension": ".py",
   "mimetype": "text/x-python",
   "name": "python",
   "nbconvert_exporter": "python",
   "pygments_lexer": "ipython3",
   "version": "3.7.10"
  }
 },
 "nbformat": 4,
 "nbformat_minor": 5
}
