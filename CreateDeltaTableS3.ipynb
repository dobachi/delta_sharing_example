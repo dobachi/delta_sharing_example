{
 "cells": [
  {
   "cell_type": "markdown",
   "id": "655d6097-8c56-4847-9074-10093261a4e5",
   "metadata": {},
   "source": [
    "# 例で使うサンプルデータを作成する"
   ]
  },
  {
   "cell_type": "code",
   "execution_count": 1,
   "id": "f6dcf1a3-e05a-4e01-8d49-027a1cf62875",
   "metadata": {},
   "outputs": [],
   "source": [
    "import os"
   ]
  },
  {
   "cell_type": "markdown",
   "id": "0e30575f-5152-44bb-99dc-952711db135c",
   "metadata": {},
   "source": [
    "起動時に設定しておいた環境変数`S3_TEST_URL`からベースとなるURLを取得する。任意のS3の場所でよい。"
   ]
  },
  {
   "cell_type": "code",
   "execution_count": 2,
   "id": "89e6032d-becd-4b4a-b1bc-90f71603ea7e",
   "metadata": {},
   "outputs": [],
   "source": [
    "s3_base = os.environ['S3_TEST_URL']"
   ]
  },
  {
   "cell_type": "markdown",
   "id": "3115babc-ba44-4c41-acba-b1f8f7c75914",
   "metadata": {},
   "source": [
    "念のため、SparkSessionを確かめる。"
   ]
  },
  {
   "cell_type": "code",
   "execution_count": 3,
   "id": "8f1dff4d-f075-48f1-a8a5-bef9ffdd4314",
   "metadata": {},
   "outputs": [
    {
     "data": {
      "text/html": [
       "\n",
       "            <div>\n",
       "                <p><b>SparkSession - hive</b></p>\n",
       "                \n",
       "        <div>\n",
       "            <p><b>SparkContext</b></p>\n",
       "\n",
       "            <p><a href=\"http://localhost:4040\">Spark UI</a></p>\n",
       "\n",
       "            <dl>\n",
       "              <dt>Version</dt>\n",
       "                <dd><code>v3.1.2</code></dd>\n",
       "              <dt>Master</dt>\n",
       "                <dd><code>local[*]</code></dd>\n",
       "              <dt>AppName</dt>\n",
       "                <dd><code>PySparkShell</code></dd>\n",
       "            </dl>\n",
       "        </div>\n",
       "        \n",
       "            </div>\n",
       "        "
      ],
      "text/plain": [
       "<pyspark.sql.session.SparkSession at 0x7faf5b1c3750>"
      ]
     },
     "execution_count": 3,
     "metadata": {},
     "output_type": "execute_result"
    }
   ],
   "source": [
    "spark"
   ]
  },
  {
   "cell_type": "markdown",
   "id": "47497c98-8f15-4684-bf72-3d0daf929b1d",
   "metadata": {},
   "source": [
    "サンプルデータを作成し、s3に書き込む。ここでは、`delta_table_01` テーブルを書き込む。"
   ]
  },
  {
   "cell_type": "markdown",
   "id": "605499fb-0af3-4977-8b77-14e20097afd4",
   "metadata": {},
   "source": [
    "ここでは `delta_table_01` というテーブルを作成する。既存データがあっても上書きモードで書き込むことにする。\n",
    "なおDelta Lakeを利用しているため、履歴は残る。"
   ]
  },
  {
   "cell_type": "code",
   "execution_count": 6,
   "id": "b942fba2-a9bc-485d-aec9-4cce0eee7efe",
   "metadata": {},
   "outputs": [],
   "source": [
    "table01 = 'delta_table_01'\n",
    "table01_url = s3_base + '/' + table01"
   ]
  },
  {
   "cell_type": "code",
   "execution_count": 7,
   "id": "c7d8113e-ef16-4978-abd4-3ccb744f0c0c",
   "metadata": {},
   "outputs": [],
   "source": [
    "spark.range(0, 10).write.mode('overwrite').format('delta').save(table01_url)"
   ]
  },
  {
   "cell_type": "markdown",
   "id": "dd424338-299d-4687-be14-d4fe4126b492",
   "metadata": {},
   "source": [
    "書き出されたデータを確認する。"
   ]
  },
  {
   "cell_type": "code",
   "execution_count": 8,
   "id": "4920151e-02cd-4e27-a639-30fc106e9e3f",
   "metadata": {},
   "outputs": [],
   "source": [
    "df = spark.read.format('delta').load(table01_url)"
   ]
  },
  {
   "cell_type": "code",
   "execution_count": 9,
   "id": "35f56894-6625-4e3f-8d02-c593dfd97386",
   "metadata": {},
   "outputs": [
    {
     "name": "stdout",
     "output_type": "stream",
     "text": [
      "+---+\n",
      "| id|\n",
      "+---+\n",
      "|  7|\n",
      "|  8|\n",
      "|  9|\n",
      "|  2|\n",
      "|  3|\n",
      "|  4|\n",
      "|  5|\n",
      "|  6|\n",
      "|  0|\n",
      "|  1|\n",
      "+---+\n",
      "\n"
     ]
    }
   ],
   "source": [
    "df.show()"
   ]
  },
  {
   "cell_type": "code",
   "execution_count": null,
   "id": "0a7b520b-a9ec-4712-9327-62d0c839bd09",
   "metadata": {},
   "outputs": [],
   "source": []
  }
 ],
 "metadata": {
  "kernelspec": {
   "display_name": "Python 3",
   "language": "python",
   "name": "python3"
  },
  "language_info": {
   "codemirror_mode": {
    "name": "ipython",
    "version": 3
   },
   "file_extension": ".py",
   "mimetype": "text/x-python",
   "name": "python",
   "nbconvert_exporter": "python",
   "pygments_lexer": "ipython3",
   "version": "3.7.10"
  }
 },
 "nbformat": 4,
 "nbformat_minor": 5
}
