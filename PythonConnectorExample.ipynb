{
 "cells": [
  {
   "cell_type": "code",
   "execution_count": 19,
   "id": "bb871f51-3303-4ad3-beea-eaedf80ea611",
   "metadata": {},
   "outputs": [],
   "source": [
    "import delta_sharing"
   ]
  },
  {
   "cell_type": "code",
   "execution_count": 14,
   "id": "1e6af4cf-58d5-4e1f-a79f-73f479ca4152",
   "metadata": {},
   "outputs": [],
   "source": [
    "profile_file = \"deltasharing.json\""
   ]
  },
  {
   "cell_type": "code",
   "execution_count": 15,
   "id": "e5aef166-4225-4883-be38-c8bdebf56a00",
   "metadata": {},
   "outputs": [],
   "source": [
    "client = delta_sharing.SharingClient(profile_file)"
   ]
  },
  {
   "cell_type": "code",
   "execution_count": 16,
   "id": "db95b468-bb47-4403-adb4-47c0d4265a6e",
   "metadata": {},
   "outputs": [
    {
     "data": {
      "text/plain": [
       "[Table(name='table1', share='delta_table', schema='schema1'),\n",
       " Table(name='table2', share='delta_table', schema='schema1')]"
      ]
     },
     "execution_count": 16,
     "metadata": {},
     "output_type": "execute_result"
    }
   ],
   "source": [
    "client.list_all_tables()"
   ]
  },
  {
   "cell_type": "code",
   "execution_count": 17,
   "id": "62c90c4d-e977-48de-8497-cfdaade0bc8f",
   "metadata": {},
   "outputs": [],
   "source": [
    "table_url = profile_file + \"#delta_table.schema1.table1\""
   ]
  },
  {
   "cell_type": "code",
   "execution_count": 18,
   "id": "12282151-76ba-43d4-8df7-421376d1c9ab",
   "metadata": {},
   "outputs": [
    {
     "data": {
      "text/html": [
       "<div>\n",
       "<style scoped>\n",
       "    .dataframe tbody tr th:only-of-type {\n",
       "        vertical-align: middle;\n",
       "    }\n",
       "\n",
       "    .dataframe tbody tr th {\n",
       "        vertical-align: top;\n",
       "    }\n",
       "\n",
       "    .dataframe thead th {\n",
       "        text-align: right;\n",
       "    }\n",
       "</style>\n",
       "<table border=\"1\" class=\"dataframe\">\n",
       "  <thead>\n",
       "    <tr style=\"text-align: right;\">\n",
       "      <th></th>\n",
       "      <th>id</th>\n",
       "    </tr>\n",
       "  </thead>\n",
       "  <tbody>\n",
       "    <tr>\n",
       "      <th>0</th>\n",
       "      <td>6</td>\n",
       "    </tr>\n",
       "    <tr>\n",
       "      <th>1</th>\n",
       "      <td>7</td>\n",
       "    </tr>\n",
       "    <tr>\n",
       "      <th>2</th>\n",
       "      <td>8</td>\n",
       "    </tr>\n",
       "    <tr>\n",
       "      <th>3</th>\n",
       "      <td>5</td>\n",
       "    </tr>\n",
       "    <tr>\n",
       "      <th>4</th>\n",
       "      <td>4</td>\n",
       "    </tr>\n",
       "    <tr>\n",
       "      <th>5</th>\n",
       "      <td>2</td>\n",
       "    </tr>\n",
       "    <tr>\n",
       "      <th>6</th>\n",
       "      <td>3</td>\n",
       "    </tr>\n",
       "    <tr>\n",
       "      <th>7</th>\n",
       "      <td>0</td>\n",
       "    </tr>\n",
       "    <tr>\n",
       "      <th>8</th>\n",
       "      <td>1</td>\n",
       "    </tr>\n",
       "    <tr>\n",
       "      <th>9</th>\n",
       "      <td>9</td>\n",
       "    </tr>\n",
       "  </tbody>\n",
       "</table>\n",
       "</div>"
      ],
      "text/plain": [
       "   id\n",
       "0   6\n",
       "1   7\n",
       "2   8\n",
       "3   5\n",
       "4   4\n",
       "5   2\n",
       "6   3\n",
       "7   0\n",
       "8   1\n",
       "9   9"
      ]
     },
     "execution_count": 18,
     "metadata": {},
     "output_type": "execute_result"
    }
   ],
   "source": [
    "delta_sharing.load_as_pandas(table_url)"
   ]
  },
  {
   "cell_type": "markdown",
   "id": "f76b68c1-1cc0-4321-ace0-b9d77b34f843",
   "metadata": {},
   "source": [
    "とりあえず、サーバ起動時にAWSのクレデンシャルを環境変数で与えたが、S3エンドポイントの設定をどうすればよいのか。\n",
    "サーバのリファレンス実装がHadoopのコンフィグレーションを渡すようになっておらず…。という状況だった。\n",
    "\n",
    "ひとまず、暫定的にサーバの実装を以下のようにしたら動いた。\n",
    "\n",
    "io/delta/standalone/internal/DeltaSharedTableLoader.scala:70\n",
    "```scala\n",
    "  private val conf = withClassLoader {\n",
    "    val conf = new Configuration()\n",
    "    conf.set(\"fs.s3a.endpoint\", \"http://127.0.0.1:9000\")\n",
    "    conf.set(\"fs.s3a.aws.credentials.provider\",\n",
    "      \"com.amazonaws.auth.profile.ProfileCredentialsProvider\")\n",
    "    conf\n",
    "  }\n",
    "```\n",
    "\n",
    "あるべき姿という意味では、コンフィグを読み込むようにすべきであるか。"
   ]
  },
  {
   "cell_type": "code",
   "execution_count": null,
   "id": "dc62a35e-701a-4e0c-a622-27c4989fb9b6",
   "metadata": {},
   "outputs": [],
   "source": []
  }
 ],
 "metadata": {
  "kernelspec": {
   "display_name": "Python 3.7 (XPython)",
   "language": "python",
   "name": "xpython"
  },
  "language_info": {
   "file_extension": ".py",
   "mimetype": "text/x-python",
   "name": "python",
   "version": "3.7.10"
  }
 },
 "nbformat": 4,
 "nbformat_minor": 5
}
