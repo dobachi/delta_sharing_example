{
 "cells": [
  {
   "cell_type": "markdown",
   "id": "1f25a969-f09f-485a-b746-6fd9346130ad",
   "metadata": {},
   "source": [
    "# Pythonクライアントを用いた動作確認"
   ]
  },
  {
   "cell_type": "markdown",
   "id": "1e8b960b-3b06-4d56-9135-fa9f9c66dce5",
   "metadata": {},
   "source": [
    "## このノートブックについて"
   ]
  },
  {
   "cell_type": "markdown",
   "id": "85b852be-a8bc-4478-ba9d-14392740c281",
   "metadata": {},
   "source": [
    "このノートブックは、Delta Sharingの動作確認用である。\n",
    "詳しくは、[Getting Started of Delta Sharingのブログ](https://dobachi.github.io/memo-blog/2021/09/10/Getting-Started-of-Delta-Sharing/) を参照。"
   ]
  },
  {
   "cell_type": "markdown",
   "id": "56086d6d-ca2d-43a7-82fb-f283de96662c",
   "metadata": {},
   "source": [
    "## クライアントのインスタンス化"
   ]
  },
  {
   "cell_type": "code",
   "execution_count": 10,
   "id": "bb871f51-3303-4ad3-beea-eaedf80ea611",
   "metadata": {},
   "outputs": [],
   "source": [
    "import delta_sharing"
   ]
  },
  {
   "cell_type": "markdown",
   "id": "f57d767d-5273-4c51-8d45-7ee4c7a078c4",
   "metadata": {},
   "source": [
    "今回は、ローカルファイルシステムに置かれたプロファイルを利用する。"
   ]
  },
  {
   "cell_type": "code",
   "execution_count": 11,
   "id": "1e6af4cf-58d5-4e1f-a79f-73f479ca4152",
   "metadata": {},
   "outputs": [],
   "source": [
    "profile_file = \"deltasharing.json\""
   ]
  },
  {
   "cell_type": "markdown",
   "id": "2c69fc89-b406-4844-b37e-be06410b5488",
   "metadata": {},
   "source": [
    "クライアント生成"
   ]
  },
  {
   "cell_type": "code",
   "execution_count": 12,
   "id": "e5aef166-4225-4883-be38-c8bdebf56a00",
   "metadata": {},
   "outputs": [],
   "source": [
    "# ファイルから読み込む場合\n",
    "# client = delta_sharing.SharingClient(profile_file)"
   ]
  },
  {
   "cell_type": "code",
   "execution_count": 13,
   "id": "3c118457-ed60-4fe1-a4d0-faf464b5bd68",
   "metadata": {},
   "outputs": [],
   "source": [
    "# JSONのテキストを渡す場合 \n",
    "profile_json_txt = '{\\\n",
    "  \"shareCredentialsVersion\": 1,\\\n",
    "  \"endpoint\": \"http://localhost:80/delta-sharing/\",\\\n",
    "  \"bearerToken\": \"\"\\\n",
    "}'\n",
    "delta_sharing_prof = delta_sharing.protocol.DeltaSharingProfile.from_json(profile_json_txt)"
   ]
  },
  {
   "cell_type": "code",
   "execution_count": 14,
   "id": "44fb919d-a0b6-4e55-9ca7-6943aff9fea6",
   "metadata": {},
   "outputs": [],
   "source": [
    "client = delta_sharing.SharingClient(delta_sharing_prof)"
   ]
  },
  {
   "cell_type": "markdown",
   "id": "373db818-bb61-4082-96a9-ffa8ba4bdc8f",
   "metadata": {},
   "source": [
    "クライアントについてはファイルで読み込む方法、JSONのテキストをそのまま渡す方法などある。"
   ]
  },
  {
   "cell_type": "markdown",
   "id": "4086c492-e5af-4d57-8f67-869d1ffb6d30",
   "metadata": {},
   "source": [
    "## 共有されているテーブルのリストを取得する"
   ]
  },
  {
   "cell_type": "markdown",
   "id": "f85320e2-666b-496c-9f64-af4fd2f4fe46",
   "metadata": {},
   "source": [
    "クライアントを利用し、共有されているテーブルを確認"
   ]
  },
  {
   "cell_type": "code",
   "execution_count": 15,
   "id": "db95b468-bb47-4403-adb4-47c0d4265a6e",
   "metadata": {},
   "outputs": [
    {
     "data": {
      "text/plain": [
       "[Table(name='table1', share='share1', schema='schema1')]"
      ]
     },
     "execution_count": 15,
     "metadata": {},
     "output_type": "execute_result"
    }
   ],
   "source": [
    "client.list_all_tables()"
   ]
  },
  {
   "cell_type": "markdown",
   "id": "b46ef08f-cc9a-4eb2-8a8d-03a1ab1ec9ae",
   "metadata": {},
   "source": [
    "なお、ほかにもスキーマを指定してテーブル一覧を取得する `delta_sharing.delta_sharing.SharingClient.list_tables` メソッド、スキーマ一覧を取得する `delta_sharing.delta_sharing.SharingClient.list_schemas` メソッド、そもそもシェアを確認する `delta_sharing.delta_sharing.SharingClient.list_shares` メソッドなどがクライアントにて提供されている。"
   ]
  },
  {
   "cell_type": "markdown",
   "id": "8508fe61-3c67-4e97-8b18-46faed6d1a6b",
   "metadata": {},
   "source": [
    "## Pandasで取得する"
   ]
  },
  {
   "cell_type": "markdown",
   "id": "60c55b23-1b1f-4e14-a3aa-b3c26597de1f",
   "metadata": {},
   "source": [
    "テーブルにアクセスする"
   ]
  },
  {
   "cell_type": "code",
   "execution_count": 16,
   "id": "62c90c4d-e977-48de-8497-cfdaade0bc8f",
   "metadata": {},
   "outputs": [],
   "source": [
    "table_url = profile_file + \"#share1.schema1.table1\""
   ]
  },
  {
   "cell_type": "code",
   "execution_count": 19,
   "id": "12282151-76ba-43d4-8df7-421376d1c9ab",
   "metadata": {},
   "outputs": [],
   "source": [
    "pdf = delta_sharing.load_as_pandas(table_url)"
   ]
  },
  {
   "cell_type": "markdown",
   "id": "2f2747e1-5e2e-4e29-a67d-606f73ce8daa",
   "metadata": {},
   "source": [
    "なお、2021/9/10現在、`delta_sharing.delta_sharing.load_as_pandas` メソッドの引数はプロフィールのJSONそのものではなく、ファイルを示すURLでないとならない。"
   ]
  },
  {
   "cell_type": "code",
   "execution_count": 20,
   "id": "6127886f-fd69-4875-b52c-316fb916be98",
   "metadata": {},
   "outputs": [
    {
     "data": {
      "text/html": [
       "<div>\n",
       "<style scoped>\n",
       "    .dataframe tbody tr th:only-of-type {\n",
       "        vertical-align: middle;\n",
       "    }\n",
       "\n",
       "    .dataframe tbody tr th {\n",
       "        vertical-align: top;\n",
       "    }\n",
       "\n",
       "    .dataframe thead th {\n",
       "        text-align: right;\n",
       "    }\n",
       "</style>\n",
       "<table border=\"1\" class=\"dataframe\">\n",
       "  <thead>\n",
       "    <tr style=\"text-align: right;\">\n",
       "      <th></th>\n",
       "      <th>id</th>\n",
       "    </tr>\n",
       "  </thead>\n",
       "  <tbody>\n",
       "    <tr>\n",
       "      <th>0</th>\n",
       "      <td>0</td>\n",
       "    </tr>\n",
       "    <tr>\n",
       "      <th>1</th>\n",
       "      <td>1</td>\n",
       "    </tr>\n",
       "    <tr>\n",
       "      <th>2</th>\n",
       "      <td>2</td>\n",
       "    </tr>\n",
       "    <tr>\n",
       "      <th>3</th>\n",
       "      <td>3</td>\n",
       "    </tr>\n",
       "    <tr>\n",
       "      <th>4</th>\n",
       "      <td>4</td>\n",
       "    </tr>\n",
       "    <tr>\n",
       "      <th>5</th>\n",
       "      <td>5</td>\n",
       "    </tr>\n",
       "    <tr>\n",
       "      <th>6</th>\n",
       "      <td>6</td>\n",
       "    </tr>\n",
       "    <tr>\n",
       "      <th>7</th>\n",
       "      <td>7</td>\n",
       "    </tr>\n",
       "    <tr>\n",
       "      <th>8</th>\n",
       "      <td>8</td>\n",
       "    </tr>\n",
       "    <tr>\n",
       "      <th>9</th>\n",
       "      <td>9</td>\n",
       "    </tr>\n",
       "  </tbody>\n",
       "</table>\n",
       "</div>"
      ],
      "text/plain": [
       "   id\n",
       "0   0\n",
       "1   1\n",
       "2   2\n",
       "3   3\n",
       "4   4\n",
       "5   5\n",
       "6   6\n",
       "7   7\n",
       "8   8\n",
       "9   9"
      ]
     },
     "execution_count": 20,
     "metadata": {},
     "output_type": "execute_result"
    }
   ],
   "source": [
    "pdf"
   ]
  },
  {
   "cell_type": "markdown",
   "id": "bb025ac4-ab38-487c-bcbb-98849d3e8c93",
   "metadata": {},
   "source": [
    "## Sparkで取得する"
   ]
  },
  {
   "cell_type": "code",
   "execution_count": 23,
   "id": "5c457abb-4e56-4eff-b613-5296d01eeba4",
   "metadata": {},
   "outputs": [],
   "source": [
    "sdf = spark.read.format('deltaSharing').load(table_url)"
   ]
  },
  {
   "cell_type": "code",
   "execution_count": 26,
   "id": "3bb136e4-5a0d-4797-a8b2-0e7a9884e2b0",
   "metadata": {},
   "outputs": [
    {
     "name": "stdout",
     "output_type": "stream",
     "text": [
      "+---+\n",
      "| id|\n",
      "+---+\n",
      "|  2|\n",
      "|  3|\n",
      "|  4|\n",
      "|  7|\n",
      "|  8|\n",
      "|  9|\n",
      "|  0|\n",
      "|  1|\n",
      "|  5|\n",
      "|  6|\n",
      "+---+\n",
      "\n"
     ]
    }
   ],
   "source": [
    "sdf.show()"
   ]
  }
 ],
 "metadata": {
  "kernelspec": {
   "display_name": "Python 3",
   "language": "python",
   "name": "python3"
  },
  "language_info": {
   "codemirror_mode": {
    "name": "ipython",
    "version": 3
   },
   "file_extension": ".py",
   "mimetype": "text/x-python",
   "name": "python",
   "nbconvert_exporter": "python",
   "pygments_lexer": "ipython3",
   "version": "3.7.10"
  }
 },
 "nbformat": 4,
 "nbformat_minor": 5
}
